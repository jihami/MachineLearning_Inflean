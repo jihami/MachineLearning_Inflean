{
  "nbformat": 4,
  "nbformat_minor": 0,
  "metadata": {
    "colab": {
      "name": "02강 Scikit-learn,NLTK.ipynb",
      "provenance": [],
      "authorship_tag": "ABX9TyP3DnJgfsY//wTE8ZKbVof3",
      "include_colab_link": true
    },
    "kernelspec": {
      "name": "python3",
      "display_name": "Python 3"
    },
    "language_info": {
      "name": "python"
    }
  },
  "cells": [
    {
      "cell_type": "markdown",
      "metadata": {
        "id": "view-in-github",
        "colab_type": "text"
      },
      "source": [
        "<a href=\"https://colab.research.google.com/github/jihami/MachineLearning_Inflean/blob/main/02%EA%B0%95_Scikit_learn%2CNLTK.ipynb\" target=\"_parent\"><img src=\"https://colab.research.google.com/assets/colab-badge.svg\" alt=\"Open In Colab\"/></a>"
      ]
    },
    {
      "cell_type": "markdown",
      "metadata": {
        "id": "CMUBmEshaiJV"
      },
      "source": [
        "Scikit-learn : 지도학습과 비지도 학습에서 모델을 만들때 사용"
      ]
    },
    {
      "cell_type": "code",
      "metadata": {
        "id": "_NOXkQ9caJpb"
      },
      "source": [
        "#넘어간대용!"
      ],
      "execution_count": null,
      "outputs": []
    },
    {
      "cell_type": "markdown",
      "metadata": {
        "id": "0kRlENbxa_wC"
      },
      "source": [
        "NLTK : 자연어처리에서 자주 사용, 토큰화에서도 자주쓰임\n",
        "토큰 :  문법적으로 더이상 나눌 수 없는 기본적인 언어요소\n",
        "자연어처리 : 챗봇에서 많이쓰임, 번역등"
      ]
    },
    {
      "cell_type": "code",
      "metadata": {
        "id": "SltVmrs9bmGE"
      },
      "source": [
        "#응 이것도 패스~~~ 다음시간부터~~"
      ],
      "execution_count": null,
      "outputs": []
    }
  ]
}